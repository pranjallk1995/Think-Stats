{
 "cells": [
  {
   "cell_type": "markdown",
   "metadata": {},
   "source": [
    "# Importing Libraries"
   ]
  },
  {
   "cell_type": "code",
   "execution_count": 168,
   "metadata": {},
   "outputs": [],
   "source": [
    "import numpy as np\n",
    "import plotly.graph_objs as go\n",
    "\n",
    "from plotly import subplots"
   ]
  },
  {
   "cell_type": "markdown",
   "metadata": {},
   "source": [
    "# Data Distributions"
   ]
  },
  {
   "cell_type": "code",
   "execution_count": 169,
   "metadata": {},
   "outputs": [],
   "source": [
    "data_rows = 10000\n",
    "\n",
    "# uniform distribution\n",
    "uniform_data = np.random.uniform(low=0, high=50, size=(data_rows, 1))\n",
    "\n",
    "# normal distribution\n",
    "normal_data = np.random.normal(loc=25, scale=5, size=(data_rows, 1))\n",
    "\n",
    "# poisson distribution\n",
    "poisson_data = np.random.exponential(scale=5, size=(data_rows, 1))\n",
    "\n",
    "distributions =  {\n",
    "    \"uniform distribution (1, 50)\": uniform_data,\n",
    "    \"normal distribution (mean=25, std=5)\": normal_data,\n",
    "    \"exponential distribution (scale=5)\": poisson_data\n",
    "}"
   ]
  },
  {
   "cell_type": "code",
   "execution_count": 170,
   "metadata": {},
   "outputs": [],
   "source": [
    "colors = {\n",
    "    \"uniform distribution (1, 50)\": \"#FFFFFF\",\n",
    "    \"normal distribution (mean=25, std=5)\": \"#EFC3CA\",\n",
    "    \"exponential distribution (scale=5)\": \"#FFECA1\"\n",
    "}\n",
    "\n",
    "total_bins = 25\n",
    "traces = []\n",
    "for type, distribution in distributions.items():\n",
    "    histogram, bins = np.histogram(distribution, bins=total_bins)\n",
    "    traces.append(\n",
    "        go.Bar(\n",
    "            x=list(np.arange(len(histogram))), y=list(histogram),\n",
    "            name=type, opacity=0.75, marker={\"color\": colors[type]}\n",
    "        )\n",
    "    )\n",
    "\n",
    "fig = subplots.make_subplots(rows=3, cols=1, shared_xaxes=True, vertical_spacing=0.05)\n",
    "for index, trace in enumerate(traces):\n",
    "    fig.add_trace(trace, row=index+1, col=1)\n",
    "    fig.update_yaxes(title_text=\"Frequency\", row=index+1, col=1)\n",
    "fig.update_xaxes(title=\"Value\", row=3, col=1)\n",
    "fig.update_layout(\n",
    "    title=\"Data Distributions\", template=\"plotly_dark\", hovermode=\"x unified\",\n",
    "    legend={\"orientation\": \"h\", \"yanchor\": \"bottom\", \"xanchor\": \"right\", \"y\": 5, \"x\": 1}\n",
    ")\n",
    "fig.write_html(\"data_distributions.html\")"
   ]
  },
  {
   "cell_type": "markdown",
   "metadata": {},
   "source": [
    "Probability Mass Function (PMF): histogram_bin_value/data_rows  for all bins\n",
    "\n",
    "Cumulative Density Function (CDF): sum(histogram_bin_value/data_rows) upto the current bin\n",
    "\n",
    "Probability Density Function (PDF): slope(histogram_bin_value, next_histogram_bin_value) for all bins\n",
    "\n",
    "PMF and PDF look the similar to the original histograms.\n",
    "\n",
    "PMF and PDF has sum=1"
   ]
  },
  {
   "cell_type": "code",
   "execution_count": 171,
   "metadata": {},
   "outputs": [],
   "source": [
    "pmfs = []\n",
    "cdfs = []\n",
    "pdfs = []\n",
    "names = []\n",
    "\n",
    "total_bins = 20\n",
    "\n",
    "for type, distribution in distributions.items():\n",
    "    histogram, bins = np.histogram(distribution, bins=total_bins)\n",
    "\n",
    "    # pmf:\n",
    "    pmf = histogram/data_rows\n",
    "    pmfs.append(pmf)\n",
    "\n",
    "    # cdf:\n",
    "    cdf = np.asarray([np.sum(pmf[:bin]) for bin in range(total_bins)])\n",
    "    cdfs.append(cdf)\n",
    "\n",
    "    # pdf:\n",
    "    pdf = np.asarray([cdf[bin] - cdf[bin-1] for bin in range(1, total_bins)])\n",
    "    pdfs.append(pdf)\n",
    "\n",
    "    names.append(type)\n",
    "\n",
    "fig = subplots.make_subplots(\n",
    "    rows=3, cols=3, shared_xaxes=True, shared_yaxes=True,\n",
    "    horizontal_spacing=0.05, vertical_spacing=0.05, subplot_titles=(\"PMF\", \"CDF\", \"PDF\")\n",
    ")\n",
    "index = 0\n",
    "for pmf, cdf, pdf in zip(pmfs, cdfs, pdfs):\n",
    "    x_values = np.arange(len(pmf))\n",
    "    fig.add_trace(\n",
    "        go.Bar(x=list(x_values), y=list(pmf), marker={\"color\": colors[names[index]]}, opacity=0.75, name=names[index]),\n",
    "        row=index+1, col=1\n",
    "    )\n",
    "    fig.add_trace(\n",
    "        go.Bar(x=list(x_values), y=list(cdf), marker={\"color\": colors[names[index]]}, opacity=0.75, name=names[index]),\n",
    "        row=index+1, col=2\n",
    "    )\n",
    "    fig.add_trace(\n",
    "        go.Bar(x=list(x_values), y=list(pdf), marker={\"color\": colors[names[index]]}, opacity=0.75, name=names[index]),\n",
    "        row=index+1, col=3\n",
    "    )\n",
    "    fig.update_yaxes(title_text=\"Frequency\", row=index+1, col=1)\n",
    "    fig.update_xaxes(title=\"Value\", row=3, col=index+1)\n",
    "    index += 1\n",
    "\n",
    "fig.update_layout(\n",
    "    title=\"Probability Distributions\", template=\"plotly_dark\", hovermode=\"x unified\",\n",
    "    showlegend=False\n",
    ")\n",
    "fig.write_html(\"probability_distributions.html\")"
   ]
  },
  {
   "cell_type": "code",
   "execution_count": null,
   "metadata": {},
   "outputs": [],
   "source": []
  }
 ],
 "metadata": {
  "kernelspec": {
   "display_name": "stats-env",
   "language": "python",
   "name": "python3"
  },
  "language_info": {
   "codemirror_mode": {
    "name": "ipython",
    "version": 3
   },
   "file_extension": ".py",
   "mimetype": "text/x-python",
   "name": "python",
   "nbconvert_exporter": "python",
   "pygments_lexer": "ipython3",
   "version": "3.10.12"
  }
 },
 "nbformat": 4,
 "nbformat_minor": 2
}
